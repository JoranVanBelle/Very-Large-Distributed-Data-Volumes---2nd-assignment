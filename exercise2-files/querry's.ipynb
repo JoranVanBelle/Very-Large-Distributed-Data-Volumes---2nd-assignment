{
 "cells": [
  {
   "cell_type": "markdown",
   "metadata": {},
   "source": [
    "# imports"
   ]
  },
  {
   "cell_type": "code",
   "execution_count": 119,
   "metadata": {},
   "outputs": [],
   "source": [
    "from DbConnector import DbConnector\n",
    "import pandas as pd\n",
    "import numpy as np\n",
    "import geopy.distance"
   ]
  },
  {
   "cell_type": "markdown",
   "metadata": {},
   "source": [
    "# Preparation"
   ]
  },
  {
   "cell_type": "code",
   "execution_count": 120,
   "metadata": {},
   "outputs": [
    {
     "name": "stdout",
     "output_type": "stream",
     "text": [
      "Connected to: 8.0.30-0ubuntu0.22.04.1\n",
      "You are connected to the database: ('sec_assignment',)\n",
      "-----------------------------------------------\n",
      "\n"
     ]
    }
   ],
   "source": [
    "connection = DbConnector()\n",
    "db_connection = connection.db_connection\n",
    "cursor = connection.cursor"
   ]
  },
  {
   "cell_type": "markdown",
   "metadata": {},
   "source": [
    "# 1. How many users, activities and trackpoints are there in the dataset (after it is inserted into the database)"
   ]
  },
  {
   "cell_type": "code",
   "execution_count": 121,
   "metadata": {},
   "outputs": [
    {
     "name": "stdout",
     "output_type": "stream",
     "text": [
      "amount of users in table User: 182\n",
      "amount of activitys in table Activity: 14718\n",
      "amount of trackpoints in table TrackPoint: 1280573\n"
     ]
    }
   ],
   "source": [
    "tables = [\"User\", \"Activity\", \"TrackPoint\"]\n",
    "\n",
    "for table_name in tables:\n",
    "    querry = f\"SELECT COUNT(id) FROM {table_name}\"\n",
    "    cursor.execute(querry)\n",
    "    result = cursor.fetchall()\n",
    "\n",
    "    print(f\"amount of {table_name.lower()}s in table {table_name}: {result[0][0]}\")"
   ]
  },
  {
   "cell_type": "markdown",
   "metadata": {},
   "source": [
    "# 2. Find the average number of activities per user. "
   ]
  },
  {
   "cell_type": "code",
   "execution_count": 122,
   "metadata": {},
   "outputs": [
    {
     "name": "stdout",
     "output_type": "stream",
     "text": [
      "average number of activities per user: 213.3043\n"
     ]
    }
   ],
   "source": [
    "querry = \"SELECT COUNT(id) / COUNT(DISTINCT(user_id)) FROM Activity a\"\n",
    "cursor.execute(querry)\n",
    "result = cursor.fetchall()\n",
    "\n",
    "print(f\"average number of activities per user: {result[0][0]}\")"
   ]
  },
  {
   "cell_type": "markdown",
   "metadata": {},
   "source": [
    "# 3. Find the top 20 users with the highest number of activities. "
   ]
  },
  {
   "cell_type": "code",
   "execution_count": 123,
   "metadata": {},
   "outputs": [
    {
     "name": "stdout",
     "output_type": "stream",
     "text": [
      "0: id 088\n",
      "1: id 124\n",
      "2: id 059\n",
      "3: id 060\n",
      "4: id 106\n",
      "5: id 116\n",
      "6: id 118\n",
      "7: id 107\n",
      "8: id 101\n",
      "9: id 087\n",
      "10: id 114\n",
      "11: id 136\n",
      "12: id 174\n",
      "13: id 086\n",
      "14: id 144\n",
      "15: id 108\n",
      "16: id 076\n",
      "17: id 175\n",
      "18: id 080\n",
      "19: id 117\n"
     ]
    }
   ],
   "source": [
    "querry = \"SELECT user_id from Activity a GROUP BY a.user_id ORDER BY COUNT(a.id) LIMIT 20\"\n",
    "cursor.execute(querry)\n",
    "result = cursor.fetchall()\n",
    "\n",
    "for i, user in enumerate(result):\n",
    "    print(f\"{i}: id {user[0]}\")"
   ]
  },
  {
   "cell_type": "markdown",
   "metadata": {},
   "source": [
    "# 4. Find all users who have taken a taxi. "
   ]
  },
  {
   "cell_type": "code",
   "execution_count": 124,
   "metadata": {},
   "outputs": [
    {
     "name": "stdout",
     "output_type": "stream",
     "text": [
      "0: id 010 took a taxi\n",
      "1: id 020 took a taxi\n",
      "2: id 021 took a taxi\n",
      "3: id 052 took a taxi\n",
      "4: id 056 took a taxi\n",
      "5: id 058 took a taxi\n",
      "6: id 062 took a taxi\n",
      "7: id 065 took a taxi\n",
      "8: id 068 took a taxi\n",
      "9: id 075 took a taxi\n",
      "10: id 078 took a taxi\n",
      "11: id 080 took a taxi\n",
      "12: id 082 took a taxi\n",
      "13: id 084 took a taxi\n",
      "14: id 085 took a taxi\n",
      "15: id 091 took a taxi\n",
      "16: id 098 took a taxi\n",
      "17: id 100 took a taxi\n",
      "18: id 102 took a taxi\n",
      "19: id 104 took a taxi\n",
      "20: id 105 took a taxi\n",
      "21: id 111 took a taxi\n",
      "22: id 114 took a taxi\n",
      "23: id 118 took a taxi\n",
      "24: id 126 took a taxi\n",
      "25: id 128 took a taxi\n",
      "26: id 139 took a taxi\n",
      "27: id 147 took a taxi\n",
      "28: id 153 took a taxi\n",
      "29: id 154 took a taxi\n",
      "30: id 161 took a taxi\n",
      "31: id 163 took a taxi\n",
      "32: id 167 took a taxi\n",
      "33: id 175 took a taxi\n",
      "34: id 179 took a taxi\n"
     ]
    }
   ],
   "source": [
    "querry = \"SELECT DISTINCT(user_id) from Activity WHERE transportation_mode = 'taxi'\"\n",
    "cursor.execute(querry)\n",
    "result = cursor.fetchall()\n",
    "\n",
    "for i, user in enumerate(result):\n",
    "    print(f\"{i}: id {user[0]} took a taxi\")"
   ]
  },
  {
   "cell_type": "markdown",
   "metadata": {},
   "source": [
    "# 5. Find all types of transportation modes and count how many activities that are tagged with these transportation mode labels. Do not count the rows where the mode is null. "
   ]
  },
  {
   "cell_type": "code",
   "execution_count": 125,
   "metadata": {},
   "outputs": [
    {
     "name": "stdout",
     "output_type": "stream",
     "text": [
      "0: bus -> 2853 times taken\n",
      "1: train -> 299 times taken\n",
      "2: taxi -> 1179 times taken\n",
      "3: walk -> 6460 times taken\n",
      "4: subway -> 813 times taken\n",
      "5: airplane -> 17 times taken\n",
      "6: car -> 993 times taken\n",
      "7: bike -> 2089 times taken\n",
      "8: boat -> 7 times taken\n",
      "9: run -> 6 times taken\n",
      "10: motorcycle -> 2 times taken\n"
     ]
    }
   ],
   "source": [
    "# If i check on u.has_labels = 0, it doesn't return anything which is weird\n",
    "# select * from User u join Activity a on u.id = a.user_id where u.has_labels = 0 does not return anything\n",
    "# It seems that we don't have activity's where transportation_mode = null\n",
    "\n",
    "querry = \"\"\"\n",
    "\n",
    "SELECT COUNT(a.transportation_mode), a.transportation_mode \n",
    "from Activity a\n",
    "JOIN User u ON a.user_id = u.id\n",
    "WHERE u.has_labels = 1\n",
    "GROUP BY transportation_mode\n",
    "\n",
    "\"\"\"\n",
    "cursor.execute(querry)\n",
    "result = cursor.fetchall()\n",
    "\n",
    "for i, transportation_mode in enumerate(result):\n",
    "    print(f\"{i}: {transportation_mode[1]} -> {transportation_mode[0]} times taken\")"
   ]
  },
  {
   "cell_type": "markdown",
   "metadata": {},
   "source": [
    "# 6.1. Find the year with the most activities."
   ]
  },
  {
   "cell_type": "code",
   "execution_count": 126,
   "metadata": {},
   "outputs": [
    {
     "name": "stdout",
     "output_type": "stream",
     "text": [
      "0: 2008 was the year with the most activities (8844).\n"
     ]
    }
   ],
   "source": [
    "querry = \"SELECT YEAR(start_date_time), COUNT(id) from Activity a GROUP BY YEAR(start_date_time) ORDER BY COUNT(id) DESC LIMIT 1\"\n",
    "cursor.execute(querry)\n",
    "result = cursor.fetchall()\n",
    "\n",
    "for i, res in enumerate(result):\n",
    "    print(f\"{i}: {res[0]} was the year with the most activities ({res[1]}).\")"
   ]
  },
  {
   "cell_type": "markdown",
   "metadata": {},
   "source": [
    "# 6.2. Is this also the year with most recorded hours?"
   ]
  },
  {
   "cell_type": "code",
   "execution_count": 127,
   "metadata": {},
   "outputs": [
    {
     "name": "stdout",
     "output_type": "stream",
     "text": [
      "0: 2008 was the year with the most recorded hours (4807).\n"
     ]
    }
   ],
   "source": [
    "# Not sure if this one is correctly solved -> answer does not seems right?\n",
    "\n",
    "querry = \"\"\"\n",
    "\n",
    "SELECT YEAR(start_date_time), SUM(TIMESTAMPDIFF(HOUR, start_date_time, end_date_time)) AS diff FROM Activity GROUP BY YEAR(start_date_time) ORDER BY diff DESC LIMIT 1\n",
    "\n",
    "\"\"\"\n",
    "cursor.execute(querry)\n",
    "result = cursor.fetchall()\n",
    "\n",
    "for i, res in enumerate(result):\n",
    "    print(f\"{i}: {res[0]} was the year with the most recorded hours ({res[1]}).\")"
   ]
  },
  {
   "cell_type": "markdown",
   "metadata": {},
   "source": [
    "# 7. Find the total distance (in km) walked in 2008, by user with id=112."
   ]
  },
  {
   "cell_type": "code",
   "execution_count": 128,
   "metadata": {},
   "outputs": [
    {
     "name": "stdout",
     "output_type": "stream",
     "text": [
      "The total disctance walked by user with id 112 in 2008 is 254.01663266401002 km\n"
     ]
    }
   ],
   "source": [
    "querry = \"\"\"\n",
    "\n",
    "SELECT tp.lat, tp.lon FROM TrackPoint tp\n",
    "JOIN Activity a ON tp.activity_id = a.id\n",
    "WHERE a.user_id = 112 AND YEAR(a.start_date_time) = 2008 AND a.transportation_mode = 'walk'\n",
    "\n",
    "\"\"\"\n",
    "cursor.execute(querry)\n",
    "result = cursor.fetchall()\n",
    "\n",
    "total_distance = 0\n",
    "for i in range(len(result) - 1):\n",
    "    total_distance += geopy.distance.geodesic((result[i][0], result[i][1]),  (result[i+1][0], result[i+1][1])).km\n",
    "\n",
    "print(f\"The total disctance walked by user with id 112 in 2008 is {total_distance} km\")"
   ]
  },
  {
   "cell_type": "markdown",
   "metadata": {},
   "source": [
    "# 8. Find the top 20 users who have gained the most altitude meters.  \n",
    "- Output should be a table with (id, total meters gained per user).   \n",
    "- Remember that some altitude-values are invalid  \n",
    "- Tip:  ∑ (𝑡𝑝 𝑛.𝑎𝑙𝑡𝑖𝑡𝑢𝑑𝑒−𝑡𝑝 𝑛−1.𝑎𝑙𝑡𝑖𝑡𝑢𝑑𝑒), 𝑡𝑝 𝑛.  𝑎𝑙𝑡𝑖𝑡𝑢𝑑𝑒 >\n",
    "𝑡𝑝 𝑛−1.𝑎𝑙𝑡𝑖𝑡𝑢𝑑𝑒"
   ]
  },
  {
   "cell_type": "code",
   "execution_count": 129,
   "metadata": {},
   "outputs": [],
   "source": [
    "querry = \"\"\"\n",
    "\n",
    "SELECT a.user_id, \n",
    "tp.altitude\n",
    "FROM TrackPoint tp\n",
    "JOIN Activity a ON tp.activity_id = a.id\n",
    "WHERE tp.altitude <> -777\n",
    "ORDER BY a.user_id ASC\n",
    "\"\"\"\n",
    "cursor.execute(querry)\n",
    "result = cursor.fetchall()"
   ]
  },
  {
   "cell_type": "code",
   "execution_count": 130,
   "metadata": {},
   "outputs": [
    {
     "name": "stdout",
     "output_type": "stream",
     "text": [
      "20 users who have gained the most altitude meters:\n"
     ]
    },
    {
     "data": {
      "text/html": [
       "<div>\n",
       "<style scoped>\n",
       "    .dataframe tbody tr th:only-of-type {\n",
       "        vertical-align: middle;\n",
       "    }\n",
       "\n",
       "    .dataframe tbody tr th {\n",
       "        vertical-align: top;\n",
       "    }\n",
       "\n",
       "    .dataframe thead th {\n",
       "        text-align: right;\n",
       "    }\n",
       "</style>\n",
       "<table border=\"1\" class=\"dataframe\">\n",
       "  <thead>\n",
       "    <tr style=\"text-align: right;\">\n",
       "      <th></th>\n",
       "      <th>id</th>\n",
       "      <th>total meters gained per user</th>\n",
       "    </tr>\n",
       "  </thead>\n",
       "  <tbody>\n",
       "    <tr>\n",
       "      <th>0</th>\n",
       "      <td>111</td>\n",
       "      <td>4663.0</td>\n",
       "    </tr>\n",
       "    <tr>\n",
       "      <th>1</th>\n",
       "      <td>101</td>\n",
       "      <td>1582.0</td>\n",
       "    </tr>\n",
       "    <tr>\n",
       "      <th>2</th>\n",
       "      <td>060</td>\n",
       "      <td>699.0</td>\n",
       "    </tr>\n",
       "    <tr>\n",
       "      <th>3</th>\n",
       "      <td>174</td>\n",
       "      <td>370.0</td>\n",
       "    </tr>\n",
       "    <tr>\n",
       "      <th>4</th>\n",
       "      <td>078</td>\n",
       "      <td>258.0</td>\n",
       "    </tr>\n",
       "    <tr>\n",
       "      <th>5</th>\n",
       "      <td>067</td>\n",
       "      <td>201.0</td>\n",
       "    </tr>\n",
       "    <tr>\n",
       "      <th>6</th>\n",
       "      <td>021</td>\n",
       "      <td>191.0</td>\n",
       "    </tr>\n",
       "    <tr>\n",
       "      <th>7</th>\n",
       "      <td>010</td>\n",
       "      <td>177.0</td>\n",
       "    </tr>\n",
       "    <tr>\n",
       "      <th>8</th>\n",
       "      <td>062</td>\n",
       "      <td>151.0</td>\n",
       "    </tr>\n",
       "    <tr>\n",
       "      <th>9</th>\n",
       "      <td>087</td>\n",
       "      <td>151.0</td>\n",
       "    </tr>\n",
       "    <tr>\n",
       "      <th>10</th>\n",
       "      <td>084</td>\n",
       "      <td>146.0</td>\n",
       "    </tr>\n",
       "    <tr>\n",
       "      <th>11</th>\n",
       "      <td>170</td>\n",
       "      <td>146.0</td>\n",
       "    </tr>\n",
       "    <tr>\n",
       "      <th>12</th>\n",
       "      <td>175</td>\n",
       "      <td>135.0</td>\n",
       "    </tr>\n",
       "    <tr>\n",
       "      <th>13</th>\n",
       "      <td>154</td>\n",
       "      <td>105.0</td>\n",
       "    </tr>\n",
       "    <tr>\n",
       "      <th>14</th>\n",
       "      <td>108</td>\n",
       "      <td>91.0</td>\n",
       "    </tr>\n",
       "    <tr>\n",
       "      <th>15</th>\n",
       "      <td>092</td>\n",
       "      <td>82.0</td>\n",
       "    </tr>\n",
       "    <tr>\n",
       "      <th>16</th>\n",
       "      <td>161</td>\n",
       "      <td>75.0</td>\n",
       "    </tr>\n",
       "    <tr>\n",
       "      <th>17</th>\n",
       "      <td>126</td>\n",
       "      <td>62.0</td>\n",
       "    </tr>\n",
       "    <tr>\n",
       "      <th>18</th>\n",
       "      <td>107</td>\n",
       "      <td>59.0</td>\n",
       "    </tr>\n",
       "    <tr>\n",
       "      <th>19</th>\n",
       "      <td>179</td>\n",
       "      <td>54.0</td>\n",
       "    </tr>\n",
       "  </tbody>\n",
       "</table>\n",
       "</div>"
      ],
      "text/plain": [
       "     id  total meters gained per user\n",
       "0   111                        4663.0\n",
       "1   101                        1582.0\n",
       "2   060                         699.0\n",
       "3   174                         370.0\n",
       "4   078                         258.0\n",
       "5   067                         201.0\n",
       "6   021                         191.0\n",
       "7   010                         177.0\n",
       "8   062                         151.0\n",
       "9   087                         151.0\n",
       "10  084                         146.0\n",
       "11  170                         146.0\n",
       "12  175                         135.0\n",
       "13  154                         105.0\n",
       "14  108                          91.0\n",
       "15  092                          82.0\n",
       "16  161                          75.0\n",
       "17  126                          62.0\n",
       "18  107                          59.0\n",
       "19  179                          54.0"
      ]
     },
     "execution_count": 130,
     "metadata": {},
     "output_type": "execute_result"
    }
   ],
   "source": [
    "df = pd.DataFrame(result, columns=[\"id\", \"elevation\"])\n",
    "df[\"meter_gained\"] = df.groupby(by=[\"id\"]).diff()\n",
    "\n",
    "df = df.groupby(by=[\"id\"]).sum().sort_values(by=[\"meter_gained\"], ascending=False).head(20).reset_index()\n",
    "df.drop([\"elevation\"], axis=1, inplace=True)\n",
    "df.rename(columns={\"id\": \"id\", \"meter_gained\": \"total meters gained per user\"}, inplace=True)\n",
    "print(\"20 users who have gained the most altitude meters:\")\n",
    "df"
   ]
  },
  {
   "cell_type": "markdown",
   "metadata": {},
   "source": [
    "# 9. Find all users who have invalid activities, and the number of invalid activities per user  \n",
    "- An invalid activity is defined as an activity with consecutive trackpoints \n",
    "where the timestamps deviate with at least 5 minutes. "
   ]
  },
  {
   "cell_type": "code",
   "execution_count": 131,
   "metadata": {},
   "outputs": [],
   "source": [
    "querry = \"\"\"\n",
    "\n",
    "WITH cte(act_id, date_time, diff_in_time)\n",
    "AS(\n",
    "    SELECT activity_id,\n",
    "    date_time,\n",
    "    TIMESTAMPDIFF(MINUTE, LAG(date_time, 1) OVER (ORDER BY date_time), date_time)\n",
    "    FROM TrackPoint\n",
    ")\n",
    "\n",
    "SELECT DISTINCT(a.id),\n",
    "a.user_id,\n",
    "cte.date_time,\n",
    "cte.diff_in_time\n",
    "FROM Activity a\n",
    "JOIN cte ON cte.act_id = a.id\n",
    "JOIN TrackPoint tp ON a.id = tp.activity_id\n",
    "WHERE cte.diff_in_time > 5 OR cte.diff_in_time < -5\n",
    "\n",
    "\"\"\"\n",
    "\n",
    "cursor.execute(querry)\n",
    "result = cursor.fetchall()"
   ]
  },
  {
   "cell_type": "code",
   "execution_count": 132,
   "metadata": {},
   "outputs": [
    {
     "name": "stdout",
     "output_type": "stream",
     "text": [
      "-------------------------------------------------------\n",
      "There are 63 users with invalid activities\n",
      "-------------------------------------------------------\n",
      "user with id 010 has 88 invalid activities.\n",
      "user with id 020 has 85 invalid activities.\n",
      "user with id 021 has 9 invalid activities.\n",
      "user with id 052 has 34 invalid activities.\n",
      "user with id 053 has 9 invalid activities.\n",
      "user with id 056 has 12 invalid activities.\n",
      "user with id 058 has 15 invalid activities.\n",
      "user with id 060 has 1 invalid activities.\n",
      "user with id 062 has 255 invalid activities.\n",
      "user with id 064 has 10 invalid activities.\n",
      "user with id 065 has 19 invalid activities.\n",
      "user with id 067 has 10 invalid activities.\n",
      "user with id 068 has 196 invalid activities.\n",
      "user with id 069 has 7 invalid activities.\n",
      "user with id 073 has 26 invalid activities.\n",
      "user with id 075 has 4 invalid activities.\n",
      "user with id 076 has 4 invalid activities.\n",
      "user with id 078 has 29 invalid activities.\n",
      "user with id 080 has 7 invalid activities.\n",
      "user with id 081 has 14 invalid activities.\n",
      "user with id 082 has 26 invalid activities.\n",
      "user with id 084 has 105 invalid activities.\n",
      "user with id 085 has 347 invalid activities.\n",
      "user with id 086 has 4 invalid activities.\n",
      "user with id 087 has 3 invalid activities.\n",
      "user with id 089 has 11 invalid activities.\n",
      "user with id 091 has 33 invalid activities.\n",
      "user with id 092 has 7 invalid activities.\n",
      "user with id 096 has 28 invalid activities.\n",
      "user with id 097 has 13 invalid activities.\n",
      "user with id 098 has 11 invalid activities.\n",
      "user with id 100 has 1 invalid activities.\n",
      "user with id 101 has 3 invalid activities.\n",
      "user with id 102 has 30 invalid activities.\n",
      "user with id 104 has 1 invalid activities.\n",
      "user with id 105 has 14 invalid activities.\n",
      "user with id 106 has 1 invalid activities.\n",
      "user with id 107 has 3 invalid activities.\n",
      "user with id 108 has 2 invalid activities.\n",
      "user with id 110 has 2 invalid activities.\n",
      "user with id 111 has 16 invalid activities.\n",
      "user with id 112 has 65 invalid activities.\n",
      "user with id 115 has 57 invalid activities.\n",
      "user with id 117 has 6 invalid activities.\n",
      "user with id 125 has 36 invalid activities.\n",
      "user with id 126 has 89 invalid activities.\n",
      "user with id 128 has 399 invalid activities.\n",
      "user with id 129 has 5 invalid activities.\n",
      "user with id 136 has 2 invalid activities.\n",
      "user with id 138 has 16 invalid activities.\n",
      "user with id 139 has 21 invalid activities.\n",
      "user with id 141 has 4 invalid activities.\n",
      "user with id 144 has 5 invalid activities.\n",
      "user with id 147 has 1 invalid activities.\n",
      "user with id 153 has 282 invalid activities.\n",
      "user with id 154 has 23 invalid activities.\n",
      "user with id 161 has 11 invalid activities.\n",
      "user with id 163 has 134 invalid activities.\n",
      "user with id 167 has 171 invalid activities.\n",
      "user with id 170 has 3 invalid activities.\n",
      "user with id 174 has 2 invalid activities.\n",
      "user with id 175 has 6 invalid activities.\n",
      "user with id 179 has 32 invalid activities.\n"
     ]
    }
   ],
   "source": [
    "df = pd.DataFrame(result, columns=[\"activity_id\", \"id\", \"time\", \"diff_in_time\"])\n",
    "# df = df.groupby(by=[\"activity_id\"])   # 3669, 4\n",
    "df.drop([\"time\", \"diff_in_time\"], axis=1, inplace=True)\n",
    "df.drop_duplicates(keep=\"first\", inplace=True)\n",
    "dict = df.groupby(by=[\"id\"]).count().reset_index().set_index('id').T.to_dict('list')   # 010 -> 88, 020 -> 85\n",
    "\n",
    "print(\"-------------------------------------------------------\")\n",
    "print(f\"There are {len(dict)} users with invalid activities\")\n",
    "print(\"-------------------------------------------------------\")\n",
    "\n",
    "for id in dict:\n",
    "    print(f\"user with id {id} has {dict[id][0]} invalid activities.\")\n"
   ]
  },
  {
   "cell_type": "markdown",
   "metadata": {},
   "source": [
    "# 10. Find the users who have tracked an activity in the Forbidden City of Beijing.  \n",
    "- In this question you can consider the Forbidden City to have coordinates that correspond to: lat 39.916, lon 116.397."
   ]
  },
  {
   "cell_type": "code",
   "execution_count": 133,
   "metadata": {},
   "outputs": [
    {
     "data": {
      "text/plain": [
       "[]"
      ]
     },
     "execution_count": 133,
     "metadata": {},
     "output_type": "execute_result"
    }
   ],
   "source": [
    "querry = \"\"\"\n",
    "\n",
    "SELECT *\n",
    "FROM Activity a\n",
    "JOIN TrackPoint tp ON a.id = tp.activity_id\n",
    "WHERE tp.lat BETWEEN 39.915 AND 39.917 AND tp.lon BETWEEN 116.396 AND 116.398\n",
    "\n",
    "\"\"\"\n",
    "\n",
    "cursor.execute(querry)\n",
    "result = cursor.fetchall()\n",
    "result"
   ]
  },
  {
   "cell_type": "markdown",
   "metadata": {},
   "source": [
    "# 11.  Find all users who have registered transportation_mode and their most used transportation_mode.  \n",
    "- The answer should be on format (user_id, most_used_transportation_mode) sorted on user_id. \n",
    "- Some users may have the same number of activities tagged with e.g. walk and car. In this case it is up to you to decide which transportation mode to include in your answer (choose one). \n",
    "- Do not count the rows where the mode is null. "
   ]
  },
  {
   "cell_type": "code",
   "execution_count": 134,
   "metadata": {},
   "outputs": [],
   "source": [
    "querry = \"\"\"\n",
    "\n",
    "SELECT a.user_id,\n",
    "COUNT(a.transportation_mode),\n",
    "a.transportation_mode\n",
    "from Activity a\n",
    "JOIN User u ON a.user_id = u.id\n",
    "WHERE u.has_labels = 1\n",
    "GROUP BY a.user_id, a.transportation_mode\n",
    "ORDER BY COUNT(a.transportation_mode) DESC\n",
    "\n",
    "\"\"\"\n",
    "\n",
    "cursor.execute(querry)\n",
    "result = cursor.fetchall()"
   ]
  },
  {
   "cell_type": "code",
   "execution_count": 141,
   "metadata": {},
   "outputs": [
    {
     "name": "stdout",
     "output_type": "stream",
     "text": [
      "user with id 010 most used transportation_mode is walk (153)\n",
      "user with id 020 most used transportation_mode is bike (102)\n",
      "user with id 021 most used transportation_mode is car (10)\n",
      "user with id 052 most used transportation_mode is bus (222)\n",
      "user with id 053 most used transportation_mode is walk (14)\n",
      "user with id 056 most used transportation_mode is bike (22)\n",
      "user with id 058 most used transportation_mode is walk (11)\n",
      "user with id 059 most used transportation_mode is walk (1)\n",
      "user with id 060 most used transportation_mode is walk (2)\n",
      "user with id 062 most used transportation_mode is bus (338)\n",
      "user with id 064 most used transportation_mode is walk (24)\n",
      "user with id 065 most used transportation_mode is bike (106)\n",
      "user with id 067 most used transportation_mode is walk (63)\n",
      "user with id 068 most used transportation_mode is bike (573)\n",
      "user with id 069 most used transportation_mode is walk (8)\n",
      "user with id 073 most used transportation_mode is walk (53)\n",
      "user with id 075 most used transportation_mode is walk (182)\n",
      "user with id 076 most used transportation_mode is car (11)\n",
      "user with id 078 most used transportation_mode is walk (77)\n",
      "user with id 080 most used transportation_mode is walk (5)\n",
      "user with id 081 most used transportation_mode is walk (30)\n",
      "user with id 082 most used transportation_mode is walk (74)\n",
      "user with id 084 most used transportation_mode is walk (235)\n",
      "user with id 085 most used transportation_mode is walk (761)\n",
      "user with id 086 most used transportation_mode is car (7)\n",
      "user with id 087 most used transportation_mode is walk (6)\n",
      "user with id 088 most used transportation_mode is bus (1)\n",
      "user with id 089 most used transportation_mode is car (31)\n",
      "user with id 091 most used transportation_mode is walk (104)\n",
      "user with id 092 most used transportation_mode is walk (22)\n",
      "user with id 096 most used transportation_mode is bike (74)\n",
      "user with id 097 most used transportation_mode is bike (25)\n",
      "user with id 098 most used transportation_mode is walk (15)\n",
      "user with id 100 most used transportation_mode is walk (6)\n",
      "user with id 101 most used transportation_mode is car (4)\n",
      "user with id 102 most used transportation_mode is walk (30)\n",
      "user with id 104 most used transportation_mode is bus (62)\n",
      "user with id 105 most used transportation_mode is walk (14)\n",
      "user with id 106 most used transportation_mode is car (3)\n",
      "user with id 107 most used transportation_mode is walk (4)\n",
      "user with id 108 most used transportation_mode is walk (5)\n",
      "user with id 110 most used transportation_mode is walk (10)\n",
      "user with id 111 most used transportation_mode is taxi (10)\n",
      "user with id 112 most used transportation_mode is walk (170)\n",
      "user with id 114 most used transportation_mode is taxi (4)\n",
      "user with id 115 most used transportation_mode is car (130)\n",
      "user with id 116 most used transportation_mode is bike (3)\n",
      "user with id 117 most used transportation_mode is walk (11)\n",
      "user with id 118 most used transportation_mode is car (4)\n",
      "user with id 124 most used transportation_mode is bus (1)\n",
      "user with id 125 most used transportation_mode is bike (50)\n",
      "user with id 126 most used transportation_mode is walk (240)\n",
      "user with id 128 most used transportation_mode is car (452)\n",
      "user with id 129 most used transportation_mode is walk (5)\n",
      "user with id 136 most used transportation_mode is walk (7)\n",
      "user with id 138 most used transportation_mode is walk (19)\n",
      "user with id 139 most used transportation_mode is walk (16)\n",
      "user with id 141 most used transportation_mode is walk (68)\n",
      "user with id 144 most used transportation_mode is car (6)\n",
      "user with id 147 most used transportation_mode is walk (131)\n",
      "user with id 153 most used transportation_mode is walk (626)\n",
      "user with id 154 most used transportation_mode is walk (32)\n",
      "user with id 161 most used transportation_mode is walk (22)\n",
      "user with id 163 most used transportation_mode is walk (1587)\n",
      "user with id 167 most used transportation_mode is walk (392)\n",
      "user with id 170 most used transportation_mode is walk (10)\n",
      "user with id 174 most used transportation_mode is car (4)\n",
      "user with id 175 most used transportation_mode is walk (5)\n",
      "user with id 179 most used transportation_mode is walk (163)\n"
     ]
    }
   ],
   "source": [
    "df = pd.DataFrame(result, columns=[\"user_id\", \"amount_used\", \"transportation_mode\"])\n",
    "df.drop_duplicates(keep=\"first\", subset=[\"user_id\"], inplace=True)\n",
    "df.sort_values(by=[\"user_id\"], ascending=True, inplace=True)\n",
    "\n",
    "dict = df.set_index('user_id').T.to_dict('list')\n",
    "for id in dict:\n",
    "    print(f\"user with id {id} most used transportation_mode is {dict[id][1]} ({dict[id][0]} times)\")"
   ]
  },
  {
   "cell_type": "code",
   "execution_count": 143,
   "metadata": {},
   "outputs": [
    {
     "data": {
      "text/html": [
       "<div>\n",
       "<style scoped>\n",
       "    .dataframe tbody tr th:only-of-type {\n",
       "        vertical-align: middle;\n",
       "    }\n",
       "\n",
       "    .dataframe tbody tr th {\n",
       "        vertical-align: top;\n",
       "    }\n",
       "\n",
       "    .dataframe thead th {\n",
       "        text-align: right;\n",
       "    }\n",
       "</style>\n",
       "<table border=\"1\" class=\"dataframe\">\n",
       "  <thead>\n",
       "    <tr style=\"text-align: right;\">\n",
       "      <th></th>\n",
       "      <th>user_id</th>\n",
       "      <th>transportation_mode</th>\n",
       "    </tr>\n",
       "  </thead>\n",
       "  <tbody>\n",
       "    <tr>\n",
       "      <th>25</th>\n",
       "      <td>010</td>\n",
       "      <td>walk</td>\n",
       "    </tr>\n",
       "    <tr>\n",
       "      <th>35</th>\n",
       "      <td>020</td>\n",
       "      <td>bike</td>\n",
       "    </tr>\n",
       "    <tr>\n",
       "      <th>125</th>\n",
       "      <td>021</td>\n",
       "      <td>car</td>\n",
       "    </tr>\n",
       "    <tr>\n",
       "      <th>17</th>\n",
       "      <td>052</td>\n",
       "      <td>bus</td>\n",
       "    </tr>\n",
       "    <tr>\n",
       "      <th>108</th>\n",
       "      <td>053</td>\n",
       "      <td>walk</td>\n",
       "    </tr>\n",
       "    <tr>\n",
       "      <th>...</th>\n",
       "      <td>...</td>\n",
       "      <td>...</td>\n",
       "    </tr>\n",
       "    <tr>\n",
       "      <th>7</th>\n",
       "      <td>167</td>\n",
       "      <td>walk</td>\n",
       "    </tr>\n",
       "    <tr>\n",
       "      <th>130</th>\n",
       "      <td>170</td>\n",
       "      <td>walk</td>\n",
       "    </tr>\n",
       "    <tr>\n",
       "      <th>196</th>\n",
       "      <td>174</td>\n",
       "      <td>car</td>\n",
       "    </tr>\n",
       "    <tr>\n",
       "      <th>180</th>\n",
       "      <td>175</td>\n",
       "      <td>walk</td>\n",
       "    </tr>\n",
       "    <tr>\n",
       "      <th>23</th>\n",
       "      <td>179</td>\n",
       "      <td>walk</td>\n",
       "    </tr>\n",
       "  </tbody>\n",
       "</table>\n",
       "<p>69 rows × 2 columns</p>\n",
       "</div>"
      ],
      "text/plain": [
       "    user_id transportation_mode\n",
       "25      010                walk\n",
       "35      020                bike\n",
       "125     021                 car\n",
       "17      052                 bus\n",
       "108     053                walk\n",
       "..      ...                 ...\n",
       "7       167                walk\n",
       "130     170                walk\n",
       "196     174                 car\n",
       "180     175                walk\n",
       "23      179                walk\n",
       "\n",
       "[69 rows x 2 columns]"
      ]
     },
     "execution_count": 143,
     "metadata": {},
     "output_type": "execute_result"
    }
   ],
   "source": [
    "df.drop([\"amount_used\"], axis=1, inplace=True)\n",
    "df"
   ]
  },
  {
   "cell_type": "code",
   "execution_count": null,
   "metadata": {},
   "outputs": [
    {
     "data": {
      "text/plain": [
       "18669"
      ]
     },
     "execution_count": 114,
     "metadata": {},
     "output_type": "execute_result"
    }
   ],
   "source": [
    "import os\n",
    "\n",
    "counter = 0\n",
    "for folder in (os.listdir(os.path.join(\"..\", \"dataset\", \"Data\"))):\n",
    "    for filename in os.listdir(os.path.join(\"..\", \"dataset\", \"Data\", folder, 'Trajectory')):\n",
    "        counter += 1\n",
    "\n",
    "counter"
   ]
  }
 ],
 "metadata": {
  "kernelspec": {
   "display_name": "Python 3.9.13 64-bit (microsoft store)",
   "language": "python",
   "name": "python3"
  },
  "language_info": {
   "codemirror_mode": {
    "name": "ipython",
    "version": 3
   },
   "file_extension": ".py",
   "mimetype": "text/x-python",
   "name": "python",
   "nbconvert_exporter": "python",
   "pygments_lexer": "ipython3",
   "version": "3.9.13"
  },
  "orig_nbformat": 4,
  "vscode": {
   "interpreter": {
    "hash": "e95d8577fb9c943f973ce139fc266a65ebf90d2a0ba257cfbd02c19732a6ac7e"
   }
  }
 },
 "nbformat": 4,
 "nbformat_minor": 2
}
