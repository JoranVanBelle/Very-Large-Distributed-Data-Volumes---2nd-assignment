{
 "cells": [
  {
   "cell_type": "markdown",
   "metadata": {},
   "source": [
    "# imports"
   ]
  },
  {
   "cell_type": "code",
   "execution_count": 1,
   "metadata": {},
   "outputs": [],
   "source": [
    "from DbConnector import DbConnector\n",
    "import pandas as pd\n",
    "import numpy as np\n",
    "import geopy.distance"
   ]
  },
  {
   "cell_type": "markdown",
   "metadata": {},
   "source": [
    "# Preparation"
   ]
  },
  {
   "cell_type": "code",
   "execution_count": 2,
   "metadata": {},
   "outputs": [
    {
     "name": "stdout",
     "output_type": "stream",
     "text": [
      "Connected to: 8.0.30-0ubuntu0.22.04.1\n",
      "You are connected to the database: ('sec_assignment',)\n",
      "-----------------------------------------------\n",
      "\n"
     ]
    }
   ],
   "source": [
    "connection = DbConnector()\n",
    "db_connection = connection.db_connection\n",
    "cursor = connection.cursor"
   ]
  },
  {
   "cell_type": "markdown",
   "metadata": {},
   "source": [
    "# 1. How many users, activities and trackpoints are there in the dataset (after it is inserted into the database)"
   ]
  },
  {
   "cell_type": "code",
   "execution_count": 3,
   "metadata": {},
   "outputs": [
    {
     "name": "stdout",
     "output_type": "stream",
     "text": [
      "amount of users in table User: 182\n",
      "amount of activitys in table Activity: 22482\n",
      "amount of trackpoints in table TrackPoint: 4034966\n"
     ]
    }
   ],
   "source": [
    "tables = [\"User\", \"Activity\", \"TrackPoint\"]\n",
    "\n",
    "for table_name in tables:\n",
    "    querry = f\"SELECT COUNT(id) FROM {table_name}\"\n",
    "    cursor.execute(querry)\n",
    "    result = cursor.fetchall()\n",
    "\n",
    "    print(f\"amount of {table_name.lower()}s in table {table_name}: {result[0][0]}\")"
   ]
  },
  {
   "cell_type": "markdown",
   "metadata": {},
   "source": [
    "# 2. Find the average number of activities per user. "
   ]
  },
  {
   "cell_type": "code",
   "execution_count": 4,
   "metadata": {},
   "outputs": [
    {
     "name": "stdout",
     "output_type": "stream",
     "text": [
      "average number of activities per user: 123.5275\n"
     ]
    }
   ],
   "source": [
    "querry = \"SELECT COUNT(id) / COUNT(DISTINCT(user_id)) FROM Activity a\"\n",
    "cursor.execute(querry)\n",
    "result = cursor.fetchall()\n",
    "\n",
    "print(f\"average number of activities per user: {result[0][0]}\")"
   ]
  },
  {
   "cell_type": "markdown",
   "metadata": {},
   "source": [
    "# 3. Find the top 20 users with the highest number of activities. "
   ]
  },
  {
   "cell_type": "code",
   "execution_count": 7,
   "metadata": {},
   "outputs": [
    {
     "name": "stdout",
     "output_type": "stream",
     "text": [
      "1. id = 163 (amount of activities = 3182)\n",
      "2. id = 085 (amount of activities = 1298)\n",
      "3. id = 153 (amount of activities = 1123)\n",
      "4. id = 068 (amount of activities = 969)\n",
      "5. id = 167 (amount of activities = 944)\n",
      "6. id = 128 (amount of activities = 937)\n",
      "7. id = 062 (amount of activities = 782)\n",
      "8. id = 025 (amount of activities = 757)\n",
      "9. id = 041 (amount of activities = 557)\n",
      "10. id = 075 (amount of activities = 509)\n",
      "11. id = 126 (amount of activities = 468)\n",
      "12. id = 010 (amount of activities = 434)\n",
      "13. id = 052 (amount of activities = 425)\n",
      "14. id = 084 (amount of activities = 422)\n",
      "15. id = 004 (amount of activities = 395)\n",
      "16. id = 017 (amount of activities = 391)\n",
      "17. id = 140 (amount of activities = 380)\n",
      "18. id = 003 (amount of activities = 322)\n",
      "19. id = 179 (amount of activities = 319)\n",
      "20. id = 030 (amount of activities = 296)\n"
     ]
    }
   ],
   "source": [
    "querry = \"SELECT user_id, COUNT(id) from Activity a GROUP BY a.user_id ORDER BY COUNT(a.id) DESC LIMIT 20\"\n",
    "cursor.execute(querry)\n",
    "result = cursor.fetchall()\n",
    "\n",
    "for i, user in enumerate(result):\n",
    "    print(f\"{i+1}. id = {user[0]} (amount of activities = {user[1]})\")"
   ]
  },
  {
   "cell_type": "markdown",
   "metadata": {},
   "source": [
    "# 4. Find all users who have taken a taxi. "
   ]
  },
  {
   "cell_type": "code",
   "execution_count": 6,
   "metadata": {},
   "outputs": [
    {
     "name": "stdout",
     "output_type": "stream",
     "text": [
      "0: id 010 took a taxi\n",
      "1: id 020 took a taxi\n",
      "2: id 021 took a taxi\n",
      "3: id 052 took a taxi\n",
      "4: id 056 took a taxi\n",
      "5: id 058 took a taxi\n",
      "6: id 062 took a taxi\n",
      "7: id 065 took a taxi\n",
      "8: id 068 took a taxi\n",
      "9: id 075 took a taxi\n",
      "10: id 078 took a taxi\n",
      "11: id 080 took a taxi\n",
      "12: id 082 took a taxi\n",
      "13: id 084 took a taxi\n",
      "14: id 085 took a taxi\n",
      "15: id 091 took a taxi\n",
      "16: id 098 took a taxi\n",
      "17: id 100 took a taxi\n",
      "18: id 102 took a taxi\n",
      "19: id 104 took a taxi\n",
      "20: id 105 took a taxi\n",
      "21: id 111 took a taxi\n",
      "22: id 114 took a taxi\n",
      "23: id 118 took a taxi\n",
      "24: id 126 took a taxi\n",
      "25: id 128 took a taxi\n",
      "26: id 139 took a taxi\n",
      "27: id 147 took a taxi\n",
      "28: id 153 took a taxi\n",
      "29: id 154 took a taxi\n",
      "30: id 161 took a taxi\n",
      "31: id 163 took a taxi\n",
      "32: id 167 took a taxi\n",
      "33: id 175 took a taxi\n",
      "34: id 179 took a taxi\n"
     ]
    }
   ],
   "source": [
    "querry = \"SELECT DISTINCT(user_id) from Activity WHERE transportation_mode = 'taxi'\"\n",
    "cursor.execute(querry)\n",
    "result = cursor.fetchall()\n",
    "\n",
    "for i, user in enumerate(result):\n",
    "    print(f\"{i}: id {user[0]} took a taxi\")"
   ]
  },
  {
   "cell_type": "markdown",
   "metadata": {},
   "source": [
    "# 5. Find all types of transportation modes and count how many activities that are tagged with these transportation mode labels. Do not count the rows where the mode is null. "
   ]
  },
  {
   "cell_type": "code",
   "execution_count": 7,
   "metadata": {},
   "outputs": [
    {
     "name": "stdout",
     "output_type": "stream",
     "text": [
      "0: bus -> 2853 times taken\n",
      "1: train -> 299 times taken\n",
      "2: taxi -> 1179 times taken\n",
      "3: walk -> 6460 times taken\n",
      "4: subway -> 813 times taken\n",
      "5: airplane -> 17 times taken\n",
      "6: car -> 993 times taken\n",
      "7: bike -> 2089 times taken\n",
      "8: boat -> 7 times taken\n",
      "9: run -> 6 times taken\n",
      "10: motorcycle -> 2 times taken\n"
     ]
    }
   ],
   "source": [
    "querry = \"\"\"\n",
    "\n",
    "SELECT COUNT(a.transportation_mode), a.transportation_mode \n",
    "from Activity a\n",
    "JOIN User u ON a.user_id = u.id\n",
    "WHERE u.has_labels = 1\n",
    "GROUP BY transportation_mode\n",
    "\n",
    "\"\"\"\n",
    "cursor.execute(querry)\n",
    "result = cursor.fetchall()\n",
    "\n",
    "for i, transportation_mode in enumerate(result):\n",
    "    print(f\"{i}: {transportation_mode[1]} -> {transportation_mode[0]} times taken\")"
   ]
  },
  {
   "cell_type": "markdown",
   "metadata": {},
   "source": [
    "# 6.1. Find the year with the most activities."
   ]
  },
  {
   "cell_type": "code",
   "execution_count": 8,
   "metadata": {},
   "outputs": [
    {
     "name": "stdout",
     "output_type": "stream",
     "text": [
      "0: 2008 was the year with the most activities (10943).\n"
     ]
    }
   ],
   "source": [
    "querry = \"SELECT YEAR(start_date_time), COUNT(id) from Activity a GROUP BY YEAR(start_date_time) ORDER BY COUNT(id) DESC LIMIT 1\"\n",
    "cursor.execute(querry)\n",
    "result = cursor.fetchall()\n",
    "\n",
    "for i, res in enumerate(result):\n",
    "    print(f\"{i}: {res[0]} was the year with the most activities ({res[1]}).\")"
   ]
  },
  {
   "cell_type": "markdown",
   "metadata": {},
   "source": [
    "# 6.2. Is this also the year with most recorded hours?"
   ]
  },
  {
   "cell_type": "code",
   "execution_count": 9,
   "metadata": {},
   "outputs": [
    {
     "name": "stdout",
     "output_type": "stream",
     "text": [
      "0: 2009 was the year with the most recorded hours (18791).\n"
     ]
    }
   ],
   "source": [
    "querry = \"\"\"\n",
    "\n",
    "SELECT YEAR(start_date_time), SUM(TIMESTAMPDIFF(HOUR, start_date_time, end_date_time)) AS diff \n",
    "FROM Activity \n",
    "GROUP BY YEAR(start_date_time)\n",
    " ORDER BY diff DESC LIMIT 1\n",
    "\n",
    "\"\"\"\n",
    "cursor.execute(querry)\n",
    "result = cursor.fetchall()\n",
    "\n",
    "for i, res in enumerate(result):\n",
    "    print(f\"{i}: {res[0]} was the year with the most recorded hours ({res[1]}).\")"
   ]
  },
  {
   "cell_type": "markdown",
   "metadata": {},
   "source": [
    "# 7. Find the total distance (in km) walked in 2008, by user with id=112."
   ]
  },
  {
   "cell_type": "code",
   "execution_count": 10,
   "metadata": {},
   "outputs": [
    {
     "name": "stdout",
     "output_type": "stream",
     "text": [
      "The total disctance walked by user with id 112 in 2008 is 109.15471726077064 km\n"
     ]
    }
   ],
   "source": [
    "querry = \"\"\"\n",
    "\n",
    "SELECT tp.lat, tp.lon, a.id\n",
    "FROM TrackPoint tp\n",
    "JOIN Activity a ON tp.activity_id = a.id\n",
    "WHERE a.user_id = 112 AND YEAR(a.start_date_time) = 2008 AND a.transportation_mode = 'walk'\n",
    "\n",
    "\"\"\"\n",
    "cursor.execute(querry)\n",
    "result = cursor.fetchall()\n",
    "\n",
    "total_distance = 0\n",
    "for i in range(len(result) - 1):\n",
    "    if result[i][2] == result[i+1][2]:\n",
    "        total_distance += geopy.distance.geodesic((result[i][0], result[i][1]),  (result[i+1][0], result[i+1][1])).km\n",
    "\n",
    "print(f\"The total disctance walked by user with id 112 in 2008 is {total_distance} km\")"
   ]
  },
  {
   "cell_type": "markdown",
   "metadata": {},
   "source": [
    "# 8. Find the top 20 users who have gained the most altitude meters.  \n",
    "- Output should be a table with (id, total meters gained per user).   \n",
    "- Remember that some altitude-values are invalid  \n",
    "- Tip:  ∑ (𝑡𝑝 𝑛.𝑎𝑙𝑡𝑖𝑡𝑢𝑑𝑒−𝑡𝑝 𝑛−1.𝑎𝑙𝑡𝑖𝑡𝑢𝑑𝑒), 𝑡𝑝 𝑛.  𝑎𝑙𝑡𝑖𝑡𝑢𝑑𝑒 >\n",
    "𝑡𝑝 𝑛−1.𝑎𝑙𝑡𝑖𝑡𝑢𝑑𝑒"
   ]
  },
  {
   "cell_type": "code",
   "execution_count": 11,
   "metadata": {},
   "outputs": [],
   "source": [
    "querry = \"\"\"\n",
    "\n",
    "SELECT a.user_id, \n",
    "tp.altitude\n",
    "FROM TrackPoint tp\n",
    "JOIN Activity a ON tp.activity_id = a.id\n",
    "WHERE tp.altitude <> -777\n",
    "ORDER BY a.user_id ASC\n",
    "\"\"\"\n",
    "cursor.execute(querry)\n",
    "result = cursor.fetchall()"
   ]
  },
  {
   "cell_type": "code",
   "execution_count": 12,
   "metadata": {},
   "outputs": [
    {
     "name": "stdout",
     "output_type": "stream",
     "text": [
      "20 users who have gained the most altitude meters:\n"
     ]
    },
    {
     "data": {
      "text/html": [
       "<div>\n",
       "<style scoped>\n",
       "    .dataframe tbody tr th:only-of-type {\n",
       "        vertical-align: middle;\n",
       "    }\n",
       "\n",
       "    .dataframe tbody tr th {\n",
       "        vertical-align: top;\n",
       "    }\n",
       "\n",
       "    .dataframe thead th {\n",
       "        text-align: right;\n",
       "    }\n",
       "</style>\n",
       "<table border=\"1\" class=\"dataframe\">\n",
       "  <thead>\n",
       "    <tr style=\"text-align: right;\">\n",
       "      <th></th>\n",
       "      <th>id</th>\n",
       "      <th>total meters gained per user</th>\n",
       "    </tr>\n",
       "  </thead>\n",
       "  <tbody>\n",
       "    <tr>\n",
       "      <th>0</th>\n",
       "      <td>111</td>\n",
       "      <td>3777.0</td>\n",
       "    </tr>\n",
       "    <tr>\n",
       "      <th>1</th>\n",
       "      <td>144</td>\n",
       "      <td>2103.0</td>\n",
       "    </tr>\n",
       "    <tr>\n",
       "      <th>2</th>\n",
       "      <td>101</td>\n",
       "      <td>1630.0</td>\n",
       "    </tr>\n",
       "    <tr>\n",
       "      <th>3</th>\n",
       "      <td>055</td>\n",
       "      <td>699.0</td>\n",
       "    </tr>\n",
       "    <tr>\n",
       "      <th>4</th>\n",
       "      <td>172</td>\n",
       "      <td>611.0</td>\n",
       "    </tr>\n",
       "    <tr>\n",
       "      <th>5</th>\n",
       "      <td>064</td>\n",
       "      <td>487.0</td>\n",
       "    </tr>\n",
       "    <tr>\n",
       "      <th>6</th>\n",
       "      <td>067</td>\n",
       "      <td>336.0</td>\n",
       "    </tr>\n",
       "    <tr>\n",
       "      <th>7</th>\n",
       "      <td>041</td>\n",
       "      <td>322.0</td>\n",
       "    </tr>\n",
       "    <tr>\n",
       "      <th>8</th>\n",
       "      <td>163</td>\n",
       "      <td>300.0</td>\n",
       "    </tr>\n",
       "    <tr>\n",
       "      <th>9</th>\n",
       "      <td>108</td>\n",
       "      <td>298.0</td>\n",
       "    </tr>\n",
       "    <tr>\n",
       "      <th>10</th>\n",
       "      <td>023</td>\n",
       "      <td>273.0</td>\n",
       "    </tr>\n",
       "    <tr>\n",
       "      <th>11</th>\n",
       "      <td>050</td>\n",
       "      <td>259.0</td>\n",
       "    </tr>\n",
       "    <tr>\n",
       "      <th>12</th>\n",
       "      <td>035</td>\n",
       "      <td>220.0</td>\n",
       "    </tr>\n",
       "    <tr>\n",
       "      <th>13</th>\n",
       "      <td>099</td>\n",
       "      <td>219.0</td>\n",
       "    </tr>\n",
       "    <tr>\n",
       "      <th>14</th>\n",
       "      <td>096</td>\n",
       "      <td>194.0</td>\n",
       "    </tr>\n",
       "    <tr>\n",
       "      <th>15</th>\n",
       "      <td>004</td>\n",
       "      <td>191.0</td>\n",
       "    </tr>\n",
       "    <tr>\n",
       "      <th>16</th>\n",
       "      <td>002</td>\n",
       "      <td>186.0</td>\n",
       "    </tr>\n",
       "    <tr>\n",
       "      <th>17</th>\n",
       "      <td>133</td>\n",
       "      <td>185.0</td>\n",
       "    </tr>\n",
       "    <tr>\n",
       "      <th>18</th>\n",
       "      <td>025</td>\n",
       "      <td>174.0</td>\n",
       "    </tr>\n",
       "    <tr>\n",
       "      <th>19</th>\n",
       "      <td>135</td>\n",
       "      <td>157.0</td>\n",
       "    </tr>\n",
       "  </tbody>\n",
       "</table>\n",
       "</div>"
      ],
      "text/plain": [
       "     id  total meters gained per user\n",
       "0   111                        3777.0\n",
       "1   144                        2103.0\n",
       "2   101                        1630.0\n",
       "3   055                         699.0\n",
       "4   172                         611.0\n",
       "5   064                         487.0\n",
       "6   067                         336.0\n",
       "7   041                         322.0\n",
       "8   163                         300.0\n",
       "9   108                         298.0\n",
       "10  023                         273.0\n",
       "11  050                         259.0\n",
       "12  035                         220.0\n",
       "13  099                         219.0\n",
       "14  096                         194.0\n",
       "15  004                         191.0\n",
       "16  002                         186.0\n",
       "17  133                         185.0\n",
       "18  025                         174.0\n",
       "19  135                         157.0"
      ]
     },
     "execution_count": 12,
     "metadata": {},
     "output_type": "execute_result"
    }
   ],
   "source": [
    "df = pd.DataFrame(result, columns=[\"id\", \"elevation\"])\n",
    "df[\"meter_gained\"] = df.groupby(by=[\"id\"]).diff()\n",
    "\n",
    "df = df.groupby(by=[\"id\"]).sum().sort_values(by=[\"meter_gained\"], ascending=False).head(20).reset_index()\n",
    "df.drop([\"elevation\"], axis=1, inplace=True)\n",
    "df.rename(columns={\"id\": \"id\", \"meter_gained\": \"total meters gained per user\"}, inplace=True)\n",
    "print(\"20 users who have gained the most altitude meters:\")\n",
    "df"
   ]
  },
  {
   "cell_type": "markdown",
   "metadata": {},
   "source": [
    "# 9. Find all users who have invalid activities, and the number of invalid activities per user  \n",
    "- An invalid activity is defined as an activity with consecutive trackpoints \n",
    "where the timestamps deviate with at least 5 minutes. "
   ]
  },
  {
   "cell_type": "code",
   "execution_count": 13,
   "metadata": {},
   "outputs": [],
   "source": [
    "querry = \"\"\"\n",
    "\n",
    "WITH cte(act_id, date_time, diff_in_time)\n",
    "AS(\n",
    "    SELECT activity_id,\n",
    "    date_time,\n",
    "    TIMESTAMPDIFF(MINUTE, LAG(date_time, 1) OVER (ORDER BY date_time), date_time)\n",
    "    FROM TrackPoint\n",
    ")\n",
    "\n",
    "SELECT DISTINCT(a.id),\n",
    "a.user_id,\n",
    "cte.date_time,\n",
    "cte.diff_in_time\n",
    "FROM Activity a\n",
    "JOIN cte ON cte.act_id = a.id\n",
    "JOIN TrackPoint tp ON a.id = tp.activity_id\n",
    "WHERE cte.diff_in_time > 5 OR cte.diff_in_time < -5\n",
    "\n",
    "\"\"\"\n",
    "\n",
    "cursor.execute(querry)\n",
    "result = cursor.fetchall()"
   ]
  },
  {
   "cell_type": "code",
   "execution_count": 14,
   "metadata": {},
   "outputs": [
    {
     "name": "stdout",
     "output_type": "stream",
     "text": [
      "-------------------------------------------------------\n",
      "There are 164 users with invalid activities\n",
      "-------------------------------------------------------\n",
      "user with id 000 has 62 invalid activities.\n",
      "user with id 001 has 23 invalid activities.\n",
      "user with id 002 has 58 invalid activities.\n",
      "user with id 003 has 108 invalid activities.\n",
      "user with id 004 has 196 invalid activities.\n",
      "user with id 005 has 22 invalid activities.\n",
      "user with id 006 has 8 invalid activities.\n",
      "user with id 007 has 11 invalid activities.\n",
      "user with id 008 has 5 invalid activities.\n",
      "user with id 009 has 10 invalid activities.\n",
      "user with id 010 has 74 invalid activities.\n",
      "user with id 011 has 56 invalid activities.\n",
      "user with id 012 has 26 invalid activities.\n",
      "user with id 013 has 35 invalid activities.\n",
      "user with id 014 has 68 invalid activities.\n",
      "user with id 015 has 16 invalid activities.\n",
      "user with id 016 has 7 invalid activities.\n",
      "user with id 017 has 96 invalid activities.\n",
      "user with id 018 has 14 invalid activities.\n",
      "user with id 019 has 19 invalid activities.\n",
      "user with id 020 has 84 invalid activities.\n",
      "user with id 021 has 9 invalid activities.\n",
      "user with id 022 has 35 invalid activities.\n",
      "user with id 023 has 6 invalid activities.\n",
      "user with id 024 has 15 invalid activities.\n",
      "user with id 025 has 264 invalid activities.\n",
      "user with id 026 has 10 invalid activities.\n",
      "user with id 027 has 1 invalid activities.\n",
      "user with id 028 has 21 invalid activities.\n",
      "user with id 029 has 16 invalid activities.\n",
      "user with id 030 has 92 invalid activities.\n",
      "user with id 031 has 1 invalid activities.\n",
      "user with id 032 has 3 invalid activities.\n",
      "user with id 033 has 1 invalid activities.\n",
      "user with id 034 has 61 invalid activities.\n",
      "user with id 035 has 13 invalid activities.\n",
      "user with id 036 has 18 invalid activities.\n",
      "user with id 037 has 43 invalid activities.\n",
      "user with id 038 has 29 invalid activities.\n",
      "user with id 039 has 80 invalid activities.\n",
      "user with id 040 has 4 invalid activities.\n",
      "user with id 041 has 145 invalid activities.\n",
      "user with id 042 has 34 invalid activities.\n",
      "user with id 043 has 12 invalid activities.\n",
      "user with id 044 has 19 invalid activities.\n",
      "user with id 045 has 5 invalid activities.\n",
      "user with id 046 has 11 invalid activities.\n",
      "user with id 047 has 4 invalid activities.\n",
      "user with id 048 has 1 invalid activities.\n",
      "user with id 050 has 6 invalid activities.\n",
      "user with id 051 has 29 invalid activities.\n",
      "user with id 052 has 31 invalid activities.\n",
      "user with id 053 has 8 invalid activities.\n",
      "user with id 055 has 9 invalid activities.\n",
      "user with id 056 has 12 invalid activities.\n",
      "user with id 057 has 11 invalid activities.\n",
      "user with id 058 has 15 invalid activities.\n",
      "user with id 060 has 1 invalid activities.\n",
      "user with id 061 has 7 invalid activities.\n",
      "user with id 062 has 184 invalid activities.\n",
      "user with id 063 has 7 invalid activities.\n",
      "user with id 064 has 8 invalid activities.\n",
      "user with id 065 has 18 invalid activities.\n",
      "user with id 066 has 5 invalid activities.\n",
      "user with id 067 has 10 invalid activities.\n",
      "user with id 068 has 134 invalid activities.\n",
      "user with id 069 has 7 invalid activities.\n",
      "user with id 070 has 5 invalid activities.\n",
      "user with id 071 has 34 invalid activities.\n",
      "user with id 072 has 1 invalid activities.\n",
      "user with id 073 has 24 invalid activities.\n",
      "user with id 074 has 53 invalid activities.\n",
      "user with id 075 has 2 invalid activities.\n",
      "user with id 076 has 4 invalid activities.\n",
      "user with id 077 has 1 invalid activities.\n",
      "user with id 078 has 28 invalid activities.\n",
      "user with id 079 has 11 invalid activities.\n",
      "user with id 080 has 7 invalid activities.\n",
      "user with id 081 has 11 invalid activities.\n",
      "user with id 082 has 13 invalid activities.\n",
      "user with id 083 has 17 invalid activities.\n",
      "user with id 084 has 65 invalid activities.\n",
      "user with id 085 has 260 invalid activities.\n",
      "user with id 086 has 4 invalid activities.\n",
      "user with id 087 has 3 invalid activities.\n",
      "user with id 089 has 12 invalid activities.\n",
      "user with id 090 has 4 invalid activities.\n",
      "user with id 091 has 33 invalid activities.\n",
      "user with id 092 has 7 invalid activities.\n",
      "user with id 093 has 11 invalid activities.\n",
      "user with id 094 has 3 invalid activities.\n",
      "user with id 095 has 19 invalid activities.\n",
      "user with id 096 has 28 invalid activities.\n",
      "user with id 097 has 13 invalid activities.\n",
      "user with id 098 has 11 invalid activities.\n",
      "user with id 099 has 8 invalid activities.\n",
      "user with id 100 has 1 invalid activities.\n",
      "user with id 101 has 3 invalid activities.\n",
      "user with id 102 has 30 invalid activities.\n",
      "user with id 103 has 24 invalid activities.\n",
      "user with id 104 has 1 invalid activities.\n",
      "user with id 105 has 14 invalid activities.\n",
      "user with id 106 has 1 invalid activities.\n",
      "user with id 107 has 3 invalid activities.\n",
      "user with id 108 has 5 invalid activities.\n",
      "user with id 109 has 2 invalid activities.\n",
      "user with id 110 has 2 invalid activities.\n",
      "user with id 111 has 16 invalid activities.\n",
      "user with id 112 has 65 invalid activities.\n",
      "user with id 113 has 14 invalid activities.\n",
      "user with id 115 has 57 invalid activities.\n",
      "user with id 117 has 6 invalid activities.\n",
      "user with id 119 has 22 invalid activities.\n",
      "user with id 121 has 3 invalid activities.\n",
      "user with id 122 has 4 invalid activities.\n",
      "user with id 123 has 3 invalid activities.\n",
      "user with id 125 has 33 invalid activities.\n",
      "user with id 126 has 86 invalid activities.\n",
      "user with id 127 has 3 invalid activities.\n",
      "user with id 128 has 290 invalid activities.\n",
      "user with id 129 has 5 invalid activities.\n",
      "user with id 130 has 9 invalid activities.\n",
      "user with id 131 has 8 invalid activities.\n",
      "user with id 132 has 2 invalid activities.\n",
      "user with id 133 has 3 invalid activities.\n",
      "user with id 134 has 40 invalid activities.\n",
      "user with id 135 has 5 invalid activities.\n",
      "user with id 136 has 2 invalid activities.\n",
      "user with id 138 has 16 invalid activities.\n",
      "user with id 139 has 21 invalid activities.\n",
      "user with id 140 has 162 invalid activities.\n",
      "user with id 141 has 4 invalid activities.\n",
      "user with id 142 has 64 invalid activities.\n",
      "user with id 144 has 4 invalid activities.\n",
      "user with id 145 has 1 invalid activities.\n",
      "user with id 146 has 2 invalid activities.\n",
      "user with id 147 has 1 invalid activities.\n",
      "user with id 150 has 5 invalid activities.\n",
      "user with id 152 has 1 invalid activities.\n",
      "user with id 153 has 251 invalid activities.\n",
      "user with id 154 has 22 invalid activities.\n",
      "user with id 155 has 23 invalid activities.\n",
      "user with id 157 has 4 invalid activities.\n",
      "user with id 158 has 6 invalid activities.\n",
      "user with id 159 has 5 invalid activities.\n",
      "user with id 161 has 11 invalid activities.\n",
      "user with id 162 has 5 invalid activities.\n",
      "user with id 163 has 131 invalid activities.\n",
      "user with id 164 has 3 invalid activities.\n",
      "user with id 165 has 8 invalid activities.\n",
      "user with id 166 has 4 invalid activities.\n",
      "user with id 167 has 158 invalid activities.\n",
      "user with id 168 has 52 invalid activities.\n",
      "user with id 169 has 9 invalid activities.\n",
      "user with id 170 has 3 invalid activities.\n",
      "user with id 171 has 3 invalid activities.\n",
      "user with id 172 has 10 invalid activities.\n",
      "user with id 173 has 3 invalid activities.\n",
      "user with id 174 has 2 invalid activities.\n",
      "user with id 175 has 6 invalid activities.\n",
      "user with id 176 has 4 invalid activities.\n",
      "user with id 179 has 19 invalid activities.\n",
      "user with id 180 has 2 invalid activities.\n",
      "user with id 181 has 6 invalid activities.\n"
     ]
    }
   ],
   "source": [
    "df = pd.DataFrame(result, columns=[\"activity_id\", \"id\", \"time\", \"diff_in_time\"])\n",
    "df.drop([\"time\", \"diff_in_time\"], axis=1, inplace=True)\n",
    "df.drop_duplicates(keep=\"first\", inplace=True)\n",
    "dict = df.groupby(by=[\"id\"]).count().reset_index().set_index('id').T.to_dict('list')   # 010 -> 88, 020 -> 85\n",
    "\n",
    "print(\"-------------------------------------------------------\")\n",
    "print(f\"There are {len(dict)} users with invalid activities\")\n",
    "print(\"-------------------------------------------------------\")\n",
    "\n",
    "for id in dict:\n",
    "    print(f\"user with id {id} has {dict[id][0]} invalid activities.\")\n"
   ]
  },
  {
   "cell_type": "markdown",
   "metadata": {},
   "source": [
    "# 10. Find the users who have tracked an activity in the Forbidden City of Beijing.  \n",
    "- In this question you can consider the Forbidden City to have coordinates that correspond to: lat 39.916, lon 116.397."
   ]
  },
  {
   "cell_type": "code",
   "execution_count": 15,
   "metadata": {},
   "outputs": [],
   "source": [
    "querry = \"\"\"\n",
    "\n",
    "SELECT DISTINCT(a.user_id)\n",
    "FROM Activity a\n",
    "JOIN TrackPoint tp ON a.id = tp.activity_id\n",
    "WHERE tp.lat BETWEEN 39.915 AND 39.917 AND tp.lon BETWEEN 116.396 AND 116.398\n",
    "\n",
    "\"\"\"\n",
    "\n",
    "cursor.execute(querry)\n",
    "result = cursor.fetchall()\n"
   ]
  },
  {
   "cell_type": "code",
   "execution_count": 16,
   "metadata": {},
   "outputs": [
    {
     "data": {
      "text/html": [
       "<div>\n",
       "<style scoped>\n",
       "    .dataframe tbody tr th:only-of-type {\n",
       "        vertical-align: middle;\n",
       "    }\n",
       "\n",
       "    .dataframe tbody tr th {\n",
       "        vertical-align: top;\n",
       "    }\n",
       "\n",
       "    .dataframe thead th {\n",
       "        text-align: right;\n",
       "    }\n",
       "</style>\n",
       "<table border=\"1\" class=\"dataframe\">\n",
       "  <thead>\n",
       "    <tr style=\"text-align: right;\">\n",
       "      <th></th>\n",
       "      <th>user_id</th>\n",
       "    </tr>\n",
       "  </thead>\n",
       "  <tbody>\n",
       "    <tr>\n",
       "      <th>0</th>\n",
       "      <td>004</td>\n",
       "    </tr>\n",
       "    <tr>\n",
       "      <th>1</th>\n",
       "      <td>018</td>\n",
       "    </tr>\n",
       "  </tbody>\n",
       "</table>\n",
       "</div>"
      ],
      "text/plain": [
       "  user_id\n",
       "0     004\n",
       "1     018"
      ]
     },
     "execution_count": 16,
     "metadata": {},
     "output_type": "execute_result"
    }
   ],
   "source": [
    "pd.DataFrame(result, columns=[\"user_id\"])"
   ]
  },
  {
   "cell_type": "markdown",
   "metadata": {},
   "source": [
    "# 11.  Find all users who have registered transportation_mode and their most used transportation_mode.  \n",
    "- The answer should be on format (user_id, most_used_transportation_mode) sorted on user_id. \n",
    "- Some users may have the same number of activities tagged with e.g. walk and car. In this case it is up to you to decide which transportation mode to include in your answer (choose one). \n",
    "- Do not count the rows where the mode is null. "
   ]
  },
  {
   "cell_type": "code",
   "execution_count": 17,
   "metadata": {},
   "outputs": [],
   "source": [
    "querry = \"\"\"\n",
    "\n",
    "SELECT a.user_id,\n",
    "COUNT(a.transportation_mode),\n",
    "a.transportation_mode\n",
    "from Activity a\n",
    "JOIN User u ON a.user_id = u.id\n",
    "WHERE u.has_labels = 1\n",
    "GROUP BY a.user_id, a.transportation_mode\n",
    "ORDER BY COUNT(a.transportation_mode) DESC\n",
    "\n",
    "\"\"\"\n",
    "\n",
    "cursor.execute(querry)\n",
    "result = cursor.fetchall()"
   ]
  },
  {
   "cell_type": "code",
   "execution_count": 18,
   "metadata": {},
   "outputs": [
    {
     "name": "stdout",
     "output_type": "stream",
     "text": [
      "user with id 010 most used transportation_mode is walk (153 times)\n",
      "user with id 020 most used transportation_mode is bike (102 times)\n",
      "user with id 021 most used transportation_mode is car (10 times)\n",
      "user with id 052 most used transportation_mode is bus (222 times)\n",
      "user with id 053 most used transportation_mode is walk (14 times)\n",
      "user with id 056 most used transportation_mode is bike (22 times)\n",
      "user with id 058 most used transportation_mode is walk (11 times)\n",
      "user with id 059 most used transportation_mode is walk (1 times)\n",
      "user with id 060 most used transportation_mode is walk (2 times)\n",
      "user with id 062 most used transportation_mode is bus (338 times)\n",
      "user with id 064 most used transportation_mode is walk (24 times)\n",
      "user with id 065 most used transportation_mode is bike (106 times)\n",
      "user with id 067 most used transportation_mode is walk (63 times)\n",
      "user with id 068 most used transportation_mode is bike (573 times)\n",
      "user with id 069 most used transportation_mode is walk (8 times)\n",
      "user with id 073 most used transportation_mode is walk (53 times)\n",
      "user with id 075 most used transportation_mode is walk (182 times)\n",
      "user with id 076 most used transportation_mode is car (11 times)\n",
      "user with id 078 most used transportation_mode is walk (77 times)\n",
      "user with id 080 most used transportation_mode is walk (5 times)\n",
      "user with id 081 most used transportation_mode is walk (30 times)\n",
      "user with id 082 most used transportation_mode is walk (74 times)\n",
      "user with id 084 most used transportation_mode is walk (235 times)\n",
      "user with id 085 most used transportation_mode is walk (761 times)\n",
      "user with id 086 most used transportation_mode is car (7 times)\n",
      "user with id 087 most used transportation_mode is walk (6 times)\n",
      "user with id 088 most used transportation_mode is bus (1 times)\n",
      "user with id 089 most used transportation_mode is car (31 times)\n",
      "user with id 091 most used transportation_mode is walk (104 times)\n",
      "user with id 092 most used transportation_mode is walk (22 times)\n",
      "user with id 096 most used transportation_mode is bike (74 times)\n",
      "user with id 097 most used transportation_mode is bike (25 times)\n",
      "user with id 098 most used transportation_mode is walk (15 times)\n",
      "user with id 100 most used transportation_mode is walk (6 times)\n",
      "user with id 101 most used transportation_mode is car (4 times)\n",
      "user with id 102 most used transportation_mode is walk (30 times)\n",
      "user with id 104 most used transportation_mode is bus (62 times)\n",
      "user with id 105 most used transportation_mode is walk (14 times)\n",
      "user with id 106 most used transportation_mode is car (3 times)\n",
      "user with id 107 most used transportation_mode is walk (4 times)\n",
      "user with id 108 most used transportation_mode is walk (5 times)\n",
      "user with id 110 most used transportation_mode is walk (10 times)\n",
      "user with id 111 most used transportation_mode is taxi (10 times)\n",
      "user with id 112 most used transportation_mode is walk (170 times)\n",
      "user with id 114 most used transportation_mode is taxi (4 times)\n",
      "user with id 115 most used transportation_mode is car (130 times)\n",
      "user with id 116 most used transportation_mode is bike (3 times)\n",
      "user with id 117 most used transportation_mode is walk (11 times)\n",
      "user with id 118 most used transportation_mode is car (4 times)\n",
      "user with id 124 most used transportation_mode is bus (1 times)\n",
      "user with id 125 most used transportation_mode is bike (50 times)\n",
      "user with id 126 most used transportation_mode is walk (240 times)\n",
      "user with id 128 most used transportation_mode is car (452 times)\n",
      "user with id 129 most used transportation_mode is walk (5 times)\n",
      "user with id 136 most used transportation_mode is walk (7 times)\n",
      "user with id 138 most used transportation_mode is walk (19 times)\n",
      "user with id 139 most used transportation_mode is walk (16 times)\n",
      "user with id 141 most used transportation_mode is walk (68 times)\n",
      "user with id 144 most used transportation_mode is car (6 times)\n",
      "user with id 147 most used transportation_mode is walk (131 times)\n",
      "user with id 153 most used transportation_mode is walk (626 times)\n",
      "user with id 154 most used transportation_mode is walk (32 times)\n",
      "user with id 161 most used transportation_mode is walk (22 times)\n",
      "user with id 163 most used transportation_mode is walk (1587 times)\n",
      "user with id 167 most used transportation_mode is walk (392 times)\n",
      "user with id 170 most used transportation_mode is walk (10 times)\n",
      "user with id 174 most used transportation_mode is car (4 times)\n",
      "user with id 175 most used transportation_mode is walk (5 times)\n",
      "user with id 179 most used transportation_mode is walk (163 times)\n"
     ]
    }
   ],
   "source": [
    "df = pd.DataFrame(result, columns=[\"user_id\", \"amount_used\", \"transportation_mode\"])\n",
    "df.drop_duplicates(keep=\"first\", subset=[\"user_id\"], inplace=True)\n",
    "df.sort_values(by=[\"user_id\"], ascending=True, inplace=True)\n",
    "\n",
    "dict = df.set_index('user_id').T.to_dict('list')\n",
    "for id in dict:\n",
    "    print(f\"user with id {id} most used transportation_mode is {dict[id][1]} ({dict[id][0]} times)\")"
   ]
  },
  {
   "cell_type": "code",
   "execution_count": 19,
   "metadata": {},
   "outputs": [
    {
     "data": {
      "text/html": [
       "<div>\n",
       "<style scoped>\n",
       "    .dataframe tbody tr th:only-of-type {\n",
       "        vertical-align: middle;\n",
       "    }\n",
       "\n",
       "    .dataframe tbody tr th {\n",
       "        vertical-align: top;\n",
       "    }\n",
       "\n",
       "    .dataframe thead th {\n",
       "        text-align: right;\n",
       "    }\n",
       "</style>\n",
       "<table border=\"1\" class=\"dataframe\">\n",
       "  <thead>\n",
       "    <tr style=\"text-align: right;\">\n",
       "      <th></th>\n",
       "      <th>user_id</th>\n",
       "      <th>transportation_mode</th>\n",
       "    </tr>\n",
       "  </thead>\n",
       "  <tbody>\n",
       "    <tr>\n",
       "      <th>25</th>\n",
       "      <td>010</td>\n",
       "      <td>walk</td>\n",
       "    </tr>\n",
       "    <tr>\n",
       "      <th>35</th>\n",
       "      <td>020</td>\n",
       "      <td>bike</td>\n",
       "    </tr>\n",
       "    <tr>\n",
       "      <th>125</th>\n",
       "      <td>021</td>\n",
       "      <td>car</td>\n",
       "    </tr>\n",
       "    <tr>\n",
       "      <th>17</th>\n",
       "      <td>052</td>\n",
       "      <td>bus</td>\n",
       "    </tr>\n",
       "    <tr>\n",
       "      <th>108</th>\n",
       "      <td>053</td>\n",
       "      <td>walk</td>\n",
       "    </tr>\n",
       "    <tr>\n",
       "      <th>...</th>\n",
       "      <td>...</td>\n",
       "      <td>...</td>\n",
       "    </tr>\n",
       "    <tr>\n",
       "      <th>7</th>\n",
       "      <td>167</td>\n",
       "      <td>walk</td>\n",
       "    </tr>\n",
       "    <tr>\n",
       "      <th>130</th>\n",
       "      <td>170</td>\n",
       "      <td>walk</td>\n",
       "    </tr>\n",
       "    <tr>\n",
       "      <th>196</th>\n",
       "      <td>174</td>\n",
       "      <td>car</td>\n",
       "    </tr>\n",
       "    <tr>\n",
       "      <th>180</th>\n",
       "      <td>175</td>\n",
       "      <td>walk</td>\n",
       "    </tr>\n",
       "    <tr>\n",
       "      <th>23</th>\n",
       "      <td>179</td>\n",
       "      <td>walk</td>\n",
       "    </tr>\n",
       "  </tbody>\n",
       "</table>\n",
       "<p>69 rows × 2 columns</p>\n",
       "</div>"
      ],
      "text/plain": [
       "    user_id transportation_mode\n",
       "25      010                walk\n",
       "35      020                bike\n",
       "125     021                 car\n",
       "17      052                 bus\n",
       "108     053                walk\n",
       "..      ...                 ...\n",
       "7       167                walk\n",
       "130     170                walk\n",
       "196     174                 car\n",
       "180     175                walk\n",
       "23      179                walk\n",
       "\n",
       "[69 rows x 2 columns]"
      ]
     },
     "execution_count": 19,
     "metadata": {},
     "output_type": "execute_result"
    }
   ],
   "source": [
    "df.drop([\"amount_used\"], axis=1, inplace=True)\n",
    "df"
   ]
  }
 ],
 "metadata": {
  "kernelspec": {
   "display_name": "Python 3.9.13 64-bit (microsoft store)",
   "language": "python",
   "name": "python3"
  },
  "language_info": {
   "codemirror_mode": {
    "name": "ipython",
    "version": 3
   },
   "file_extension": ".py",
   "mimetype": "text/x-python",
   "name": "python",
   "nbconvert_exporter": "python",
   "pygments_lexer": "ipython3",
   "version": "3.9.13"
  },
  "orig_nbformat": 4,
  "vscode": {
   "interpreter": {
    "hash": "e95d8577fb9c943f973ce139fc266a65ebf90d2a0ba257cfbd02c19732a6ac7e"
   }
  }
 },
 "nbformat": 4,
 "nbformat_minor": 2
}
