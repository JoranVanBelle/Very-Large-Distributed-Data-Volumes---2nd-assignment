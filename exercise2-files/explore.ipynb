{
 "cells": [
  {
   "cell_type": "code",
   "execution_count": 2,
   "metadata": {},
   "outputs": [],
   "source": [
    "import pandas as pd\n",
    "import os\n",
    "from io import StringIO"
   ]
  },
  {
   "cell_type": "code",
   "execution_count": 13,
   "metadata": {},
   "outputs": [
    {
     "data": {
      "text/plain": [
       "(173870, 6)"
      ]
     },
     "execution_count": 13,
     "metadata": {},
     "output_type": "execute_result"
    }
   ],
   "source": [
    "base_path = os.path.join(\"..\", \"dataset\", \"Data\")\n",
    "\n",
    "for folder in os.listdir(base_path):\n",
    "    data = {'lat': [], 'lon': [], 'alt': [], 'date': [], 'datestr': [], 'timestr': []}\n",
    "    for filename in os.listdir(os.path.join(base_path, folder, 'Trajectory')):\n",
    "        with open(os.path.join(base_path, folder, 'Trajectory', filename)) as file:\n",
    "            for line in file.readlines()[6:]:\n",
    "                line_data = (line.rstrip().split(','))\n",
    "                data['lat'].append(line_data[0])\n",
    "                data['lon'].append(line_data[1])\n",
    "                data['alt'].append(line_data[3])\n",
    "                data['date'].append(line_data[4])\n",
    "                data['datestr'].append(line_data[5])\n",
    "                data['timestr'].append(line_data[6])\n",
    "\n",
    "            \n",
    "    df = pd.DataFrame(data)\n",
    "    break\n",
    "\n",
    "df.shape"
   ]
  },
  {
   "cell_type": "code",
   "execution_count": null,
   "metadata": {},
   "outputs": [],
   "source": []
  }
 ],
 "metadata": {
  "kernelspec": {
   "display_name": "Python 3.9.13 64-bit (microsoft store)",
   "language": "python",
   "name": "python3"
  },
  "language_info": {
   "codemirror_mode": {
    "name": "ipython",
    "version": 3
   },
   "file_extension": ".py",
   "mimetype": "text/x-python",
   "name": "python",
   "nbconvert_exporter": "python",
   "pygments_lexer": "ipython3",
   "version": "3.9.13"
  },
  "orig_nbformat": 4,
  "vscode": {
   "interpreter": {
    "hash": "e95d8577fb9c943f973ce139fc266a65ebf90d2a0ba257cfbd02c19732a6ac7e"
   }
  }
 },
 "nbformat": 4,
 "nbformat_minor": 2
}
